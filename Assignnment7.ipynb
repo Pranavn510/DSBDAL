{
 "cells": [
  {
   "cell_type": "code",
   "execution_count": 1,
   "id": "b9abe0ee-efb7-4167-b759-fe81d8b47f9e",
   "metadata": {},
   "outputs": [
    {
     "ename": "ModuleNotFoundError",
     "evalue": "No module named 'nltk'",
     "output_type": "error",
     "traceback": [
      "\u001b[1;31m---------------------------------------------------------------------------\u001b[0m",
      "\u001b[1;31mModuleNotFoundError\u001b[0m                       Traceback (most recent call last)",
      "Cell \u001b[1;32mIn[1], line 1\u001b[0m\n\u001b[1;32m----> 1\u001b[0m \u001b[38;5;28;01mimport\u001b[39;00m \u001b[38;5;21;01mnltk\u001b[39;00m\n",
      "\u001b[1;31mModuleNotFoundError\u001b[0m: No module named 'nltk'"
     ]
    }
   ],
   "source": [
    "import nltk"
   ]
  },
  {
   "cell_type": "code",
   "execution_count": 2,
   "id": "9fd48d0c-5c5c-4b28-8d2d-7431a110199a",
   "metadata": {},
   "outputs": [
    {
     "name": "stdout",
     "output_type": "stream",
     "text": [
      "Collecting nltk\n",
      "  Using cached nltk-3.8.1-py3-none-any.whl.metadata (2.8 kB)\n",
      "Collecting click (from nltk)\n",
      "  Using cached click-8.1.7-py3-none-any.whl.metadata (3.0 kB)\n",
      "Requirement already satisfied: joblib in c:\\python312\\lib\\site-packages (from nltk) (1.4.0)\n",
      "Collecting regex>=2021.8.3 (from nltk)\n",
      "  Using cached regex-2024.4.28-cp312-cp312-win_amd64.whl.metadata (41 kB)\n",
      "Collecting tqdm (from nltk)\n",
      "  Using cached tqdm-4.66.2-py3-none-any.whl.metadata (57 kB)\n",
      "Requirement already satisfied: colorama in c:\\python312\\lib\\site-packages (from click->nltk) (0.4.6)\n",
      "Using cached nltk-3.8.1-py3-none-any.whl (1.5 MB)\n",
      "Downloading regex-2024.4.28-cp312-cp312-win_amd64.whl (268 kB)\n",
      "   ---------------------------------------- 0.0/268.5 kB ? eta -:--:--\n",
      "   ---------------------------------------- 0.0/268.5 kB ? eta -:--:--\n",
      "   ---------------------------------------- 0.0/268.5 kB ? eta -:--:--\n",
      "   ---------------------------------------- 0.0/268.5 kB ? eta -:--:--\n",
      "   - -------------------------------------- 10.2/268.5 kB ? eta -:--:--\n",
      "   - -------------------------------------- 10.2/268.5 kB ? eta -:--:--\n",
      "   ---- ---------------------------------- 30.7/268.5 kB 325.1 kB/s eta 0:00:01\n",
      "   -------- ------------------------------ 61.4/268.5 kB 363.1 kB/s eta 0:00:01\n",
      "   ------------- ------------------------- 92.2/268.5 kB 435.7 kB/s eta 0:00:01\n",
      "   --------------- ---------------------- 112.6/268.5 kB 437.6 kB/s eta 0:00:01\n",
      "   --------------- ---------------------- 112.6/268.5 kB 437.6 kB/s eta 0:00:01\n",
      "   ------------------------ ------------- 174.1/268.5 kB 523.5 kB/s eta 0:00:01\n",
      "   ------------------------------- ------ 225.3/268.5 kB 550.0 kB/s eta 0:00:01\n",
      "   -------------------------------------  266.2/268.5 kB 606.6 kB/s eta 0:00:01\n",
      "   -------------------------------------- 268.5/268.5 kB 589.5 kB/s eta 0:00:00\n",
      "Downloading click-8.1.7-py3-none-any.whl (97 kB)\n",
      "   ---------------------------------------- 0.0/97.9 kB ? eta -:--:--\n",
      "   --------------------------------- ------ 81.9/97.9 kB ? eta -:--:--\n",
      "   --------------------------------- ------ 81.9/97.9 kB ? eta -:--:--\n",
      "   --------------------------------- ------ 81.9/97.9 kB ? eta -:--:--\n",
      "   --------------------------------- ------ 81.9/97.9 kB ? eta -:--:--\n",
      "   --------------------------------- ------ 81.9/97.9 kB ? eta -:--:--\n",
      "   ---------------------------------------- 97.9/97.9 kB 329.7 kB/s eta 0:00:00\n",
      "Downloading tqdm-4.66.2-py3-none-any.whl (78 kB)\n",
      "   ---------------------------------------- 0.0/78.3 kB ? eta -:--:--\n",
      "   ----- ---------------------------------- 10.2/78.3 kB ? eta -:--:--\n",
      "   -------------------- ------------------- 41.0/78.3 kB 653.6 kB/s eta 0:00:01\n",
      "   ---------------------------------------- 78.3/78.3 kB 724.0 kB/s eta 0:00:00\n",
      "Installing collected packages: tqdm, regex, click, nltk\n",
      "Successfully installed click-8.1.7 nltk-3.8.1 regex-2024.4.28 tqdm-4.66.2\n",
      "Note: you may need to restart the kernel to use updated packages.\n"
     ]
    }
   ],
   "source": [
    "pip install nltk"
   ]
  },
  {
   "cell_type": "code",
   "execution_count": 2,
   "id": "31b772a9-335c-44e8-a374-8a0b38e6f34d",
   "metadata": {},
   "outputs": [],
   "source": [
    "import nltk"
   ]
  },
  {
   "cell_type": "code",
   "execution_count": 3,
   "id": "71b6b79b-0cce-465d-81ab-09f1529c264b",
   "metadata": {},
   "outputs": [
    {
     "name": "stderr",
     "output_type": "stream",
     "text": [
      "[nltk_data] Downloading package punkt to\n",
      "[nltk_data]     C:\\Users\\admin\\AppData\\Roaming\\nltk_data...\n",
      "[nltk_data]   Unzipping tokenizers\\punkt.zip.\n",
      "[nltk_data] Downloading package stopwords to\n",
      "[nltk_data]     C:\\Users\\admin\\AppData\\Roaming\\nltk_data...\n",
      "[nltk_data]   Unzipping corpora\\stopwords.zip.\n",
      "[nltk_data] Downloading package wordnet to\n",
      "[nltk_data]     C:\\Users\\admin\\AppData\\Roaming\\nltk_data...\n",
      "[nltk_data] Downloading package averaged_perceptron_tagger to\n",
      "[nltk_data]     C:\\Users\\admin\\AppData\\Roaming\\nltk_data...\n",
      "[nltk_data]   Unzipping taggers\\averaged_perceptron_tagger.zip.\n",
      "[nltk_data] Downloading package omw-1.4 to\n",
      "[nltk_data]     C:\\Users\\admin\\AppData\\Roaming\\nltk_data...\n"
     ]
    },
    {
     "data": {
      "text/plain": [
       "True"
      ]
     },
     "execution_count": 3,
     "metadata": {},
     "output_type": "execute_result"
    }
   ],
   "source": [
    "nltk.download('punkt')\n",
    "nltk.download('stopwords')\n",
    "nltk.download('wordnet')\n",
    "nltk.download('averaged_perceptron_tagger')\n",
    "nltk.download('omw-1.4')"
   ]
  },
  {
   "cell_type": "code",
   "execution_count": 4,
   "id": "9de694d3-7289-4eb2-a087-cf35d5343f1d",
   "metadata": {},
   "outputs": [],
   "source": [
    "#Part-1"
   ]
  },
  {
   "cell_type": "code",
   "execution_count": 5,
   "id": "dd01a3a8-9f72-4982-8812-895db101c8af",
   "metadata": {},
   "outputs": [],
   "source": [
    "text = '''Tokenization is the first step in text analytics. The Process of breaking down a text paragraph into smaller chunks such as words or sentence is called Tokenization. '''"
   ]
  },
  {
   "cell_type": "code",
   "execution_count": 6,
   "id": "1b28244a-a1f6-4a34-b651-4019c8019aa7",
   "metadata": {},
   "outputs": [],
   "source": [
    "#TOKENIZATION"
   ]
  },
  {
   "cell_type": "code",
   "execution_count": 10,
   "id": "a4732537-e7ba-4c3b-bdd0-0ac2a216768e",
   "metadata": {},
   "outputs": [
    {
     "name": "stdout",
     "output_type": "stream",
     "text": [
      "['Tokenization is the first step in text analytics.', 'The Process of breaking down a text paragraph into smaller chunks such as words or sentence is called Tokenization.']\n"
     ]
    }
   ],
   "source": [
    "#Sentence Tokenization\n",
    "from nltk.tokenize import sent_tokenize\n",
    "tokenized_text = sent_tokenize(text)\n",
    "print(tokenized_text)"
   ]
  },
  {
   "cell_type": "code",
   "execution_count": 12,
   "id": "547e672d-0998-4177-912d-fc89679875b2",
   "metadata": {},
   "outputs": [
    {
     "name": "stdout",
     "output_type": "stream",
     "text": [
      "['Tokenization', 'is', 'the', 'first', 'step', 'in', 'text', 'analytics', '.', 'The', 'Process', 'of', 'breaking', 'down', 'a', 'text', 'paragraph', 'into', 'smaller', 'chunks', 'such', 'as', 'words', 'or', 'sentence', 'is', 'called', 'Tokenization', '.']\n"
     ]
    }
   ],
   "source": [
    "from nltk.tokenize import word_tokenize\n",
    "tokenized_word = word_tokenize(text)\n",
    "print(tokenized_word)"
   ]
  },
  {
   "cell_type": "code",
   "execution_count": 13,
   "id": "1bfac9b3-971f-413b-bc20-015f995f5183",
   "metadata": {},
   "outputs": [],
   "source": [
    "#REMOVING STOP WORDS"
   ]
  },
  {
   "cell_type": "code",
   "execution_count": 15,
   "id": "5ee0b402-7dc2-4039-bff8-28fb95b4e3dc",
   "metadata": {},
   "outputs": [
    {
     "name": "stdout",
     "output_type": "stream",
     "text": [
      "List of english stop words:  {'such', 'very', 'needn', 'whom', 'too', 'aren', 'them', 'which', 'until', 'again', 'then', 'but', \"don't\", 'wasn', \"didn't\", 'theirs', 'from', 'our', \"haven't\", 'what', 'how', 'mightn', \"wasn't\", 'my', 'out', 'yours', 'not', 'll', 'of', \"should've\", 'down', 'himself', 'same', 'mustn', 'won', \"needn't\", 'over', \"aren't\", 'will', 'didn', 'with', 'been', 'ma', \"won't\", 'about', 'each', 'hadn', 'under', 'should', 'hers', 'm', 'that', 'nor', \"shan't\", 'is', 'if', 'because', 'more', \"hasn't\", 'myself', 'their', 'does', 'during', 'before', 'some', 'when', 'than', 'further', \"mustn't\", 'the', \"you've\", \"you'll\", 'those', 's', 'has', 'your', \"she's\", 'were', 'can', 'an', 'below', 'she', 'wouldn', 'shouldn', 'it', 'who', 'all', 'above', 'o', 'by', \"it's\", 'to', 't', 'he', 'itself', 'just', 'hasn', 'its', 'any', \"wouldn't\", \"isn't\", 'off', 'shan', 'don', 'you', 'they', 'own', \"weren't\", 'had', 'only', 'isn', 'these', \"couldn't\", \"that'll\", 'yourself', 'couldn', 'at', 'haven', 'as', 'why', 'was', 'herself', 'do', \"you're\", 'themselves', 'between', 'so', 'for', 'being', 'in', \"mightn't\", 'up', 'and', 'are', 'while', 'having', 'into', 'i', 'have', 'd', 'here', 'him', \"hadn't\", 're', 'yourselves', 'ain', 'few', 'ours', \"doesn't\", 'once', \"shouldn't\", 'her', 'we', 'be', 'where', 'no', 'after', 'am', 'there', 'against', 'doing', 'now', 'other', 'or', 've', 'weren', 'me', 'both', \"you'd\", 'doesn', 'this', 'through', 'y', 'ourselves', 'on', 'his', 'a', 'did', 'most'}\n"
     ]
    }
   ],
   "source": [
    "from nltk.corpus import stopwords\n",
    "import re\n",
    "\n",
    "stop_words = set(stopwords.words(\"english\"))\n",
    "print(\"List of english stop words: \",stop_words)"
   ]
  },
  {
   "cell_type": "code",
   "execution_count": 16,
   "id": "b0011f40-c0c5-42e8-9d64-aa65fe72e2d7",
   "metadata": {},
   "outputs": [
    {
     "name": "stdout",
     "output_type": "stream",
     "text": [
      "Tokenized Sentence: ['how', 'to', 'remove', 'stop', 'words', 'with', 'nltk', 'library', 'in', 'python']\n",
      "Filtered Sentence: ['remove', 'stop', 'words', 'nltk', 'library', 'python']\n"
     ]
    }
   ],
   "source": [
    "text = \"How to remove stop words with NLTK library in Python?\"\n",
    "text = re.sub('[^a-zA-Z]',' ',text)\n",
    "\n",
    "tokens = word_tokenize(text.lower())\n",
    "filtered_text = []\n",
    "\n",
    "for w in tokens:\n",
    "    if w not in stop_words:\n",
    "        filtered_text.append(w)\n",
    "\n",
    "print(\"Tokenized Sentence:\",tokens)\n",
    "print(\"Filtered Sentence:\",filtered_text)"
   ]
  },
  {
   "cell_type": "code",
   "execution_count": 17,
   "id": "3850099a-4651-4908-bf64-14c2f0abf34a",
   "metadata": {},
   "outputs": [],
   "source": [
    "#TEXT NORMALIZATION"
   ]
  },
  {
   "cell_type": "code",
   "execution_count": 18,
   "id": "0d1e31d2-d91f-44d4-b61d-c2994fadd9bb",
   "metadata": {},
   "outputs": [],
   "source": [
    "#Stemming"
   ]
  },
  {
   "cell_type": "code",
   "execution_count": 19,
   "id": "5d0dd5fe-4c93-4f4d-8eb8-d671c27c91fb",
   "metadata": {},
   "outputs": [
    {
     "name": "stdout",
     "output_type": "stream",
     "text": [
      "wait cri\n"
     ]
    }
   ],
   "source": [
    "from nltk.stem import PorterStemmer\n",
    "\n",
    "e_words = ['wait',\"waiting\",\"waited\",\"waits\"]\n",
    "e_words1 = [\"cry\",\"cries\",\"crying\"]\n",
    "ps = PorterStemmer()\n",
    "\n",
    "for w in e_words:\n",
    "    rootWord = ps.stem(w)\n",
    "\n",
    "for w in e_words1:\n",
    "    rootWord1 = ps.stem(w)\n",
    "\n",
    "print(rootWord,rootWord1)"
   ]
  },
  {
   "cell_type": "code",
   "execution_count": 21,
   "id": "c165e9f1-0278-4543-af77-c608d592bc0c",
   "metadata": {},
   "outputs": [
    {
     "name": "stdout",
     "output_type": "stream",
     "text": [
      "Lemma for studies is study\n",
      "Lemma for studying is studying\n",
      "Lemma for cries is cry\n",
      "Lemma for cry is cry\n"
     ]
    }
   ],
   "source": [
    "# LEMMATIZATION\n",
    "from nltk.stem import WordNetLemmatizer\n",
    "wordnet_lemmatizer = WordNetLemmatizer()\n",
    "\n",
    "text = \"studies studying cries cry\"\n",
    "tokenization = nltk.word_tokenize(text)\n",
    "\n",
    "for w in tokenization:\n",
    "    print(\"Lemma for {} is {}\".format(w,wordnet_lemmatizer.lemmatize(w)))"
   ]
  },
  {
   "cell_type": "code",
   "execution_count": 22,
   "id": "f6dc016b-4984-4196-9483-3538e0cb54a5",
   "metadata": {},
   "outputs": [],
   "source": [
    "# POS(Parts of Speech) Tagging"
   ]
  },
  {
   "cell_type": "code",
   "execution_count": 23,
   "id": "24cee0b9-3d52-4ca6-9329-ebabc6a43091",
   "metadata": {},
   "outputs": [
    {
     "name": "stdout",
     "output_type": "stream",
     "text": [
      "[('The', 'DT')]\n",
      "[('pink', 'NN')]\n",
      "[('sweater', 'NN')]\n",
      "[('fit', 'NN')]\n",
      "[('her', 'PRP$')]\n",
      "[('perfectly', 'RB')]\n"
     ]
    }
   ],
   "source": [
    "data = \"The pink sweater fit her perfectly\"\n",
    "words = word_tokenize(data)\n",
    "\n",
    "for word in words:\n",
    "    \n",
    "    print(nltk.pos_tag([word]))"
   ]
  },
  {
   "cell_type": "code",
   "execution_count": 24,
   "id": "f548809d-e7da-4f65-b14d-00660fdf0d38",
   "metadata": {},
   "outputs": [],
   "source": [
    "#PART - 2"
   ]
  },
  {
   "cell_type": "code",
   "execution_count": 25,
   "id": "b2c70226-429b-4a91-a3fc-5b30ca41bf4b",
   "metadata": {},
   "outputs": [],
   "source": [
    "import pandas as pd\n",
    "import math"
   ]
  },
  {
   "cell_type": "code",
   "execution_count": 26,
   "id": "90682957-2ea5-4342-af55-ecb7b20341eb",
   "metadata": {},
   "outputs": [],
   "source": [
    "documentA = 'Jupiter is the largest Planet'\n",
    "documentB = 'Mars is the fourth planet from the sun'"
   ]
  },
  {
   "cell_type": "code",
   "execution_count": 27,
   "id": "1ae6ce0b-e37b-4fb7-b28c-e2264dd47bdc",
   "metadata": {},
   "outputs": [],
   "source": [
    "bagOfWordsA = documentA.split(' ')\n",
    "bagOfWordsB = documentB.split(' ')\n",
    "\n",
    "uniqueWords = set(bagOfWordsA).union(set(bagOfWordsB))\n",
    "\n",
    "numOfWordsA = dict.fromkeys(uniqueWords,0)\n",
    "for word in bagOfWordsA:\n",
    "    numOfWordsA[word] += 1\n",
    "    numOfWordsB = dict.fromkeys(uniqueWords,0)\n",
    "\n",
    "for word in bagOfWordsB:\n",
    "    numOfWordsB[word] += 1\n",
    "    "
   ]
  },
  {
   "cell_type": "code",
   "execution_count": 28,
   "id": "90431d0e-5b6f-4200-8cb8-2cefcdf4b7f9",
   "metadata": {},
   "outputs": [],
   "source": [
    "def computeTF(wordDict,bagOfWords):\n",
    "    tfDict = {}\n",
    "    bagOfWordsCount = len(bagOfWords)\n",
    "\n",
    "    for word,count in wordDict.items():\n",
    "        tfDict[word] = count/float(bagOfWordsCount)\n",
    "    return tfDict\n",
    "\n",
    "tfA = computeTF(numOfWordsA,bagOfWordsA)\n",
    "tfB = computeTF(numOfWordsB,bagOfWordsB)"
   ]
  },
  {
   "cell_type": "code",
   "execution_count": 29,
   "id": "f8e44a1f-0147-4386-ae51-559892a46f10",
   "metadata": {},
   "outputs": [
    {
     "data": {
      "text/plain": [
       "{'from': 0.0,\n",
       " 'largest': 0.2,\n",
       " 'Jupiter': 0.2,\n",
       " 'the': 0.2,\n",
       " 'is': 0.2,\n",
       " 'planet': 0.0,\n",
       " 'Mars': 0.0,\n",
       " 'fourth': 0.0,\n",
       " 'sun': 0.0,\n",
       " 'Planet': 0.2}"
      ]
     },
     "execution_count": 29,
     "metadata": {},
     "output_type": "execute_result"
    }
   ],
   "source": [
    "tfA"
   ]
  },
  {
   "cell_type": "code",
   "execution_count": 30,
   "id": "7e4fb046-4d1d-494f-8b70-f4e30344c702",
   "metadata": {},
   "outputs": [
    {
     "data": {
      "text/plain": [
       "{'from': 0.125,\n",
       " 'largest': 0.0,\n",
       " 'Jupiter': 0.0,\n",
       " 'the': 0.25,\n",
       " 'is': 0.125,\n",
       " 'planet': 0.125,\n",
       " 'Mars': 0.125,\n",
       " 'fourth': 0.125,\n",
       " 'sun': 0.125,\n",
       " 'Planet': 0.0}"
      ]
     },
     "execution_count": 30,
     "metadata": {},
     "output_type": "execute_result"
    }
   ],
   "source": [
    "tfB"
   ]
  },
  {
   "cell_type": "code",
   "execution_count": 31,
   "id": "f612ef99-016a-4a7b-b242-f21c58f45fe0",
   "metadata": {},
   "outputs": [
    {
     "data": {
      "text/plain": [
       "{'from': 0.6931471805599453,\n",
       " 'largest': 0.6931471805599453,\n",
       " 'Jupiter': 0.6931471805599453,\n",
       " 'the': 0.0,\n",
       " 'is': 0.0,\n",
       " 'planet': 0.6931471805599453,\n",
       " 'Mars': 0.6931471805599453,\n",
       " 'fourth': 0.6931471805599453,\n",
       " 'sun': 0.6931471805599453,\n",
       " 'Planet': 0.6931471805599453}"
      ]
     },
     "execution_count": 31,
     "metadata": {},
     "output_type": "execute_result"
    }
   ],
   "source": [
    "def computeIDF(documents):\n",
    "\n",
    "  N = len(documents)\n",
    "  idfDict = dict.fromkeys(documents[0].keys(), 0)\n",
    "  for document in documents:\n",
    "    for word, val in document.items():\n",
    "      if val > 0:\n",
    "        idfDict[word] += 1\n",
    "  for word, val in idfDict.items():\n",
    "    idfDict[word] = math.log(N / float(val))\n",
    "  return idfDict\n",
    "  \n",
    "idfs = computeIDF([numOfWordsA, numOfWordsB])\n",
    "idfs"
   ]
  },
  {
   "cell_type": "code",
   "execution_count": 32,
   "id": "4f903c69-c0b5-4d0b-9e84-ce9dbcff6360",
   "metadata": {},
   "outputs": [
    {
     "data": {
      "text/html": [
       "<div>\n",
       "<style scoped>\n",
       "    .dataframe tbody tr th:only-of-type {\n",
       "        vertical-align: middle;\n",
       "    }\n",
       "\n",
       "    .dataframe tbody tr th {\n",
       "        vertical-align: top;\n",
       "    }\n",
       "\n",
       "    .dataframe thead th {\n",
       "        text-align: right;\n",
       "    }\n",
       "</style>\n",
       "<table border=\"1\" class=\"dataframe\">\n",
       "  <thead>\n",
       "    <tr style=\"text-align: right;\">\n",
       "      <th></th>\n",
       "      <th>from</th>\n",
       "      <th>largest</th>\n",
       "      <th>Jupiter</th>\n",
       "      <th>the</th>\n",
       "      <th>is</th>\n",
       "      <th>planet</th>\n",
       "      <th>Mars</th>\n",
       "      <th>fourth</th>\n",
       "      <th>sun</th>\n",
       "      <th>Planet</th>\n",
       "    </tr>\n",
       "  </thead>\n",
       "  <tbody>\n",
       "    <tr>\n",
       "      <th>0</th>\n",
       "      <td>0.000000</td>\n",
       "      <td>0.138629</td>\n",
       "      <td>0.138629</td>\n",
       "      <td>0.0</td>\n",
       "      <td>0.0</td>\n",
       "      <td>0.000000</td>\n",
       "      <td>0.000000</td>\n",
       "      <td>0.000000</td>\n",
       "      <td>0.000000</td>\n",
       "      <td>0.138629</td>\n",
       "    </tr>\n",
       "    <tr>\n",
       "      <th>1</th>\n",
       "      <td>0.086643</td>\n",
       "      <td>0.000000</td>\n",
       "      <td>0.000000</td>\n",
       "      <td>0.0</td>\n",
       "      <td>0.0</td>\n",
       "      <td>0.086643</td>\n",
       "      <td>0.086643</td>\n",
       "      <td>0.086643</td>\n",
       "      <td>0.086643</td>\n",
       "      <td>0.000000</td>\n",
       "    </tr>\n",
       "  </tbody>\n",
       "</table>\n",
       "</div>"
      ],
      "text/plain": [
       "       from   largest   Jupiter  the   is    planet      Mars    fourth  \\\n",
       "0  0.000000  0.138629  0.138629  0.0  0.0  0.000000  0.000000  0.000000   \n",
       "1  0.086643  0.000000  0.000000  0.0  0.0  0.086643  0.086643  0.086643   \n",
       "\n",
       "        sun    Planet  \n",
       "0  0.000000  0.138629  \n",
       "1  0.086643  0.000000  "
      ]
     },
     "execution_count": 32,
     "metadata": {},
     "output_type": "execute_result"
    }
   ],
   "source": [
    "def computeTFIDF(tfBagOfWords, idfs):\n",
    "  tfidf = {}\n",
    "  for word, val in tfBagOfWords.items():\n",
    "    tfidf[word] = val * idfs[word]\n",
    "  return tfidf\n",
    "\n",
    "tfidfA = computeTFIDF(tfA, idfs)\n",
    "tfidfB = computeTFIDF(tfB, idfs)\n",
    "\n",
    "df = pd.DataFrame([tfidfA, tfidfB])\n",
    "df"
   ]
  },
  {
   "cell_type": "code",
   "execution_count": null,
   "id": "039fbe68-bc60-4e2c-a902-d1d28ad3bd54",
   "metadata": {},
   "outputs": [],
   "source": []
  }
 ],
 "metadata": {
  "kernelspec": {
   "display_name": "Python 3 (ipykernel)",
   "language": "python",
   "name": "python3"
  },
  "language_info": {
   "codemirror_mode": {
    "name": "ipython",
    "version": 3
   },
   "file_extension": ".py",
   "mimetype": "text/x-python",
   "name": "python",
   "nbconvert_exporter": "python",
   "pygments_lexer": "ipython3",
   "version": "3.12.3"
  }
 },
 "nbformat": 4,
 "nbformat_minor": 5
}
